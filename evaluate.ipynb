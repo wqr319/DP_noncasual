{
 "cells": [
  {
   "cell_type": "code",
   "execution_count": 1,
   "metadata": {
    "collapsed": true
   },
   "outputs": [
    {
     "name": "stderr",
     "output_type": "stream",
     "text": [
      "Global seed set to 0\n"
     ]
    }
   ],
   "source": [
    "import torch\n",
    "import torchaudio\n",
    "import torch.nn.functional as F\n",
    "from main import load_cfg\n",
    "from build import LightningNet\n",
    "import pysepm\n",
    "import numpy as np\n",
    "import matplotlib.pyplot as plt\n",
    "import os\n",
    "from tqdm import tqdm"
   ]
  },
  {
   "cell_type": "code",
   "execution_count": 7,
   "metadata": {},
   "outputs": [
    {
     "name": "stdout",
     "output_type": "stream",
     "text": [
      "\n"
     ]
    }
   ],
   "source": [
    "model = LightningNet.load_from_checkpoint('log/DNS/version_0/epoch=380.ckpt').cuda()\n",
    "model.eval()\n",
    "print()"
   ]
  },
  {
   "attachments": {},
   "cell_type": "markdown",
   "metadata": {},
   "source": [
    "### Evaluate on DNS dev test_set no_reverb"
   ]
  },
  {
   "cell_type": "code",
   "execution_count": 10,
   "metadata": {},
   "outputs": [
    {
     "name": "stderr",
     "output_type": "stream",
     "text": [
      "150it [01:32,  1.62it/s]"
     ]
    },
    {
     "name": "stdout",
     "output_type": "stream",
     "text": [
      "2.0135125796000164\n",
      "3.654630264974779\n",
      "2.8993064844403107\n",
      "2.8363363047181758\n",
      "0.8250538345700641\n"
     ]
    },
    {
     "name": "stderr",
     "output_type": "stream",
     "text": [
      "\n"
     ]
    }
   ],
   "source": [
    "def take_last(name):\n",
    "    name = name.split('.')[0]\n",
    "    id = name.split('_')[-1]\n",
    "    return id\n",
    "\n",
    "clean_files = os.listdir('/mnt/g/WQR/DNS_datasets/test_set/synthetic/no_reverb/clean')\n",
    "noisy_files = os.listdir('/mnt/g/WQR/DNS_datasets/test_set/synthetic/no_reverb/noisy')\n",
    "clean_files.sort(key=take_last)\n",
    "noisy_files.sort(key=take_last)\n",
    "\n",
    "csig_list, cbak_list, covl_list = [], [], []\n",
    "pesq_list, stoi_list = [], []\n",
    "for i, (clean_name, noisy_name) in tqdm(enumerate(zip(clean_files, noisy_files))):\n",
    "    noisy_wav = torchaudio.load(\n",
    "            os.path.join('/mnt/g/WQR/DNS_datasets/test_set/synthetic/no_reverb/noisy', noisy_name))[0][0].cuda()\n",
    "    target_wav = torchaudio.load(\n",
    "            os.path.join('/mnt/g/WQR/DNS_datasets/test_set/synthetic/no_reverb/clean', clean_name))[0][0].cuda()\n",
    "    target_wav = target_wav.detach().cpu().numpy()\n",
    "    \n",
    "    if len(noisy_wav) <= 63744:\n",
    "        real_length = len(noisy_wav)\n",
    "        noisy_wav = F.pad(noisy_wav, (0, 63744-len(noisy_wav)))\n",
    "\n",
    "        enhanced_wav = model(noisy_wav.unsqueeze(0))\n",
    "        enhanced_wav = enhanced_wav.squeeze()[:real_length].detach().cpu().numpy()\n",
    "\n",
    "    else:\n",
    "        num_clips = len(noisy_wav)//63744 + 1\n",
    "        noisy_wav_long = F.pad(noisy_wav, (0, (num_clips+1) * 63744 - len(noisy_wav)))\n",
    "        enhanced_clips = []\n",
    "        for j in range(num_clips+1):\n",
    "            noisy_clip = noisy_wav_long[j * 63744 : (j+1) * 63744]\n",
    "            enhanced_clip = model(noisy_clip.unsqueeze(0))\n",
    "            enhanced_clip = enhanced_clip.squeeze().detach().cpu().numpy()\n",
    "            enhanced_clips.append(enhanced_clip)\n",
    "        enhanced_wav = np.zeros(((num_clips+1)*63744,))\n",
    "        for k, clip in enumerate(enhanced_clips):\n",
    "            enhanced_wav[k * 63744 : (k + 1) * 63744] = clip\n",
    "        enhanced_wav = enhanced_wav[:len(noisy_wav)]\n",
    "    \n",
    "    # if i==10:\n",
    "    #     plt.figure(figsize=(10,8))\n",
    "    #     plt.plot(target_wav)\n",
    "    #     plt.plot(enhanced_wav + 1)\n",
    "    #     plt.grid()\n",
    "    #     plt.show()\n",
    "    #     assert False\n",
    "    noisy_wav = noisy_wav.detach().cpu().numpy()\n",
    "    csig, cbak, covl = pysepm.composite(target_wav, enhanced_wav, 16000)\n",
    "    pesq = pysepm.pesq(target_wav, enhanced_wav, 16000)[1]\n",
    "    stoi = pysepm.stoi(target_wav,enhanced_wav,16000)\n",
    "\n",
    "    csig_list.append(csig)\n",
    "    cbak_list.append(cbak)\n",
    "    covl_list.append(covl)\n",
    "    pesq_list.append(pesq)\n",
    "    stoi_list.append(stoi)\n",
    "\n",
    "def mean(lst):\n",
    "    return sum(lst) / len(lst)\n",
    "\n",
    "print(mean(pesq_list))\n",
    "print(mean(csig_list))\n",
    "print(mean(cbak_list))\n",
    "print(mean(covl_list))\n",
    "print(mean(stoi_list))"
   ]
  },
  {
   "attachments": {},
   "cell_type": "markdown",
   "metadata": {},
   "source": [
    "### Result on DNS\n",
    "no_reverb: 2.83, 96.6\n"
   ]
  },
  {
   "attachments": {},
   "cell_type": "markdown",
   "metadata": {},
   "source": [
    "### Evaluate on VBD"
   ]
  },
  {
   "cell_type": "code",
   "execution_count": 3,
   "metadata": {},
   "outputs": [
    {
     "name": "stderr",
     "output_type": "stream",
     "text": [
      "824it [02:27,  5.59it/s]"
     ]
    },
    {
     "name": "stdout",
     "output_type": "stream",
     "text": [
      "3.061062902790829\n",
      "4.4385565697845495\n",
      "3.501054016143857\n",
      "3.780937904295498\n"
     ]
    },
    {
     "name": "stderr",
     "output_type": "stream",
     "text": [
      "\n"
     ]
    }
   ],
   "source": [
    "csig_list, cbak_list, covl_list = [], [], []\n",
    "pesq_list, stoi_list = [], []\n",
    "clean_list = os.listdir('/home/wqr/vbd/clean_testset_wav')\n",
    "noisy_list = os.listdir('/home/wqr/vbd/noisy_testset_wav')\n",
    "clean_list.sort()\n",
    "noisy_list.sort()\n",
    "for i, (clean_name, noisy_name) in tqdm(enumerate(zip(clean_list, noisy_list))):\n",
    "    noisy_wav = torchaudio.load(os.path.join('/home/wqr/vbd/noisy_testset_wav', noisy_name))[0][0].cuda()\n",
    "    target_wav = torchaudio.load(os.path.join('/home/wqr/vbd/clean_testset_wav', clean_name))[0][0].cuda()\n",
    "    target_wav = target_wav.detach().cpu().numpy()\n",
    "\n",
    "    if len(noisy_wav) <= 63744:\n",
    "        real_length = len(noisy_wav)\n",
    "        noisy_wav = F.pad(noisy_wav, (0, 63744-len(noisy_wav)))\n",
    "\n",
    "        enhanced_wav = model(noisy_wav.unsqueeze(0))\n",
    "        enhanced_wav = enhanced_wav.squeeze()[:real_length].detach().cpu().numpy()\n",
    "\n",
    "    else:\n",
    "        num_clips = len(noisy_wav)//63744 + 1\n",
    "        noisy_wav_long = F.pad(noisy_wav, (0, (num_clips+1) * 63744 - len(noisy_wav)))\n",
    "        enhanced_clips = []\n",
    "        for j in range(num_clips+1):\n",
    "            noisy_clip = noisy_wav_long[j * 63744 : (j+1) * 63744]\n",
    "            enhanced_clip = model(noisy_clip.unsqueeze(0))\n",
    "            enhanced_clip = enhanced_clip.squeeze().detach().cpu().numpy()\n",
    "            enhanced_clips.append(enhanced_clip)\n",
    "        enhanced_wav = np.zeros(((num_clips+1)*63744,))\n",
    "        for k, clip in enumerate(enhanced_clips):\n",
    "            enhanced_wav[k * 63744 : (k + 1) * 63744] = clip\n",
    "        enhanced_wav = enhanced_wav[:len(noisy_wav)]\n",
    "\n",
    "    # if i==2:\n",
    "    #     plt.figure(figsize=(15,10))\n",
    "    #     plt.plot(target_wav)\n",
    "    #     plt.plot(enhanced_wav + 1)\n",
    "    #     plt.grid()\n",
    "    #     plt.show()\n",
    "    #     assert False\n",
    "    csig, cbak, covl = pysepm.composite(target_wav, enhanced_wav, 16000)\n",
    "    pesq = pysepm.pesq(target_wav, enhanced_wav, 16000)[1]\n",
    "    stoi = pysepm.stoi(target_wav,enhanced_wav,16000)\n",
    "\n",
    "    csig_list.append(csig)\n",
    "    cbak_list.append(cbak)\n",
    "    covl_list.append(covl)\n",
    "    pesq_list.append(pesq)\n",
    "    stoi_list.append(stoi)\n",
    "\n",
    "\n",
    "def mean(lst):\n",
    "    return sum(lst) / len(lst)\n",
    "\n",
    "print(mean(pesq_list))\n",
    "print(mean(csig_list))\n",
    "print(mean(cbak_list))\n",
    "print(mean(covl_list))\n",
    "print(mean(stoi_list))"
   ]
  },
  {
   "attachments": {},
   "cell_type": "markdown",
   "metadata": {},
   "source": [
    "### Result on VBD\n",
    "p: 3.06  \n",
    "s: 4.44  \n",
    "b: 3.50  \n",
    "o: 3.78"
   ]
  },
  {
   "attachments": {},
   "cell_type": "markdown",
   "metadata": {},
   "source": [
    "### solve pretrained weight keys"
   ]
  },
  {
   "cell_type": "code",
   "execution_count": 3,
   "metadata": {},
   "outputs": [],
   "source": [
    "model = torch.load('log/DNS/version_0/epoch=380.ckpt')['state_dict']\n",
    "d = {}\n",
    "for key in model.keys():\n",
    "    newkey = key.split('.',1)[-1]\n",
    "    value = model[key]\n",
    "    d[newkey] = value\n",
    "torch.save(d,'log/DNS/version_0/DNS_pretrained_model.pth')"
   ]
  }
 ],
 "metadata": {
  "kernelspec": {
   "display_name": "py38",
   "language": "python",
   "name": "python3"
  },
  "language_info": {
   "codemirror_mode": {
    "name": "ipython",
    "version": 3
   },
   "file_extension": ".py",
   "mimetype": "text/x-python",
   "name": "python",
   "nbconvert_exporter": "python",
   "pygments_lexer": "ipython3",
   "version": "3.8.13"
  },
  "vscode": {
   "interpreter": {
    "hash": "489d603327385ce8126e234e012259ac3d6ab57ea207ce695eee4739649ef51b"
   }
  }
 },
 "nbformat": 4,
 "nbformat_minor": 0
}
